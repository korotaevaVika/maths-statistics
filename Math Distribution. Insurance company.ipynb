{
 "cells": [
  {
   "cell_type": "markdown",
   "metadata": {},
   "source": [
    "### Распределение Пуассона. Нормальное распределение / Poisson and Normal distributions"
   ]
  },
  {
   "cell_type": "code",
   "execution_count": 1,
   "metadata": {
    "collapsed": true
   },
   "outputs": [],
   "source": [
    "from IPython.display import display, Math, Latex"
   ]
  },
  {
   "cell_type": "markdown",
   "metadata": {},
   "source": [
    "Pаспределение Пуассона при больших значениях среднего переходит в нормальное распредление : <br> <br>\n",
    "$$P_m=\\frac{a^m}{m!}e^{-a}\\approx\\frac{1}{\\sqrt{2\\pi a}}e^{-\\frac{(m-a)^2}{2a}}$$\n",
    "[Доказательство](https://mail.google.com/mail/u/0?ui=2&ik=7e633e38b7&attid=0.2&permmsgid=msg-f:1628448483864341225&th=16996944a7c1eae9&view=att&disp=safe)"
   ]
  },
  {
   "cell_type": "code",
   "execution_count": 2,
   "metadata": {},
   "outputs": [],
   "source": [
    "from math import factorial, exp, sqrt, pi, ceil\n",
    "from time import time"
   ]
  },
  {
   "cell_type": "code",
   "execution_count": 3,
   "metadata": {},
   "outputs": [],
   "source": [
    "def getPoissonProbability(m, a):\n",
    "    return ((a**m)/factorial(m))*exp(-a)"
   ]
  },
  {
   "cell_type": "code",
   "execution_count": 4,
   "metadata": {
    "collapsed": true
   },
   "outputs": [],
   "source": [
    "def getNormalProbability(m, a):\n",
    "    return (1/sqrt(2*pi*a))*exp(-((m-a)**2)/(2*a))"
   ]
  },
  {
   "cell_type": "markdown",
   "metadata": {},
   "source": [
    "### Задача / Problem"
   ]
  },
  {
   "cell_type": "markdown",
   "metadata": {},
   "source": [
    "***Дано:***<br> Есть страховая компания. Она обслуживает $n = 10000$ людей. Каждый клиент платит каждый год страховой взнос $C = 12$ у.е. В случае смерти страховая компания выплачивает $D = 1000$ у.е. семье умершего. Вероятность смерти человека $p=0.006$\n",
    "<br>***Найти*** <br> $X$ - вероятность того, что компания разорится (прибыль <= 0)"
   ]
  },
  {
   "cell_type": "code",
   "execution_count": 7,
   "metadata": {
    "collapsed": true
   },
   "outputs": [],
   "source": [
    "n = 10**4\n",
    "c = 12\n",
    "d = 10**3\n",
    "p = 6*10**(-3)"
   ]
  },
  {
   "cell_type": "markdown",
   "metadata": {},
   "source": [
    "***Решение*** <br>\n",
    "Найдем минимальное $k$ смертей клиентов, при котором компания разорится, т.е. $C*n-D*k<=0$"
   ]
  },
  {
   "cell_type": "code",
   "execution_count": 8,
   "metadata": {
    "collapsed": true
   },
   "outputs": [],
   "source": [
    "k = ceil(c*n/d)"
   ]
  },
  {
   "cell_type": "code",
   "execution_count": 9,
   "metadata": {},
   "outputs": [
    {
     "name": "stdout",
     "output_type": "stream",
     "text": [
      "Минимальное кол-во смертей, приводящее к разорению:  120\n"
     ]
    }
   ],
   "source": [
    "print('Минимальное кол-во смертей, приводящее к разорению: ', k)"
   ]
  },
  {
   "cell_type": "markdown",
   "metadata": {},
   "source": [
    "Теперь вычислим вероятность компании разорится, т.е. сумму вероятностей того, что в год умрет от $k$ до $n$ клиентов <br>\n",
    "$$X=\\sum_k^n(P_m)=1-\\sum_0^{k-1}(P_m),$$\n",
    " где $P_m$ - это вероятность того, что в год умрет m клиентов"
   ]
  },
  {
   "cell_type": "code",
   "execution_count": 10,
   "metadata": {},
   "outputs": [],
   "source": [
    "useNormalDistribution = True # if false - poisson distribution is used"
   ]
  },
  {
   "cell_type": "code",
   "execution_count": 11,
   "metadata": {},
   "outputs": [],
   "source": [
    "a = n*p #среднее ожидаемое количество смертей в год"
   ]
  },
  {
   "cell_type": "code",
   "execution_count": 12,
   "metadata": {},
   "outputs": [
    {
     "name": "stdout",
     "output_type": "stream",
     "text": [
      "Execution Time:  0.0\n"
     ]
    }
   ],
   "source": [
    "x = 0\n",
    "start = time()\n",
    "if useNormalDistribution:\n",
    "    for i in range(k-1):\n",
    "        x += getNormalProbability(i, a)\n",
    "else:\n",
    "    for i in range(k-1):\n",
    "        x += getPoissonProbability(i, a)\n",
    "x = 1 - x \n",
    "end = time()\n",
    "print('Execution Time: ', end - start)"
   ]
  },
  {
   "cell_type": "markdown",
   "metadata": {},
   "source": [
    "#### Ответ: "
   ]
  },
  {
   "cell_type": "code",
   "execution_count": 13,
   "metadata": {},
   "outputs": [
    {
     "name": "stdout",
     "output_type": "stream",
     "text": [
      "Страховая компания разорится с вероятностью 2.3203661214665772e-14\n"
     ]
    }
   ],
   "source": [
    "print('Страховая компания разорится с вероятностью', x)"
   ]
  },
  {
   "cell_type": "code",
   "execution_count": null,
   "metadata": {
    "collapsed": true
   },
   "outputs": [],
   "source": []
  }
 ],
 "metadata": {
  "kernelspec": {
   "display_name": "Python 3",
   "language": "python",
   "name": "python3"
  },
  "language_info": {
   "codemirror_mode": {
    "name": "ipython",
    "version": 3
   },
   "file_extension": ".py",
   "mimetype": "text/x-python",
   "name": "python",
   "nbconvert_exporter": "python",
   "pygments_lexer": "ipython3",
   "version": "3.6.3"
  },
  "latex_metadata": {
   "affiliation": "NUST MISIS, Computer science. Moscow, Russia.",
   "author": "Viktoria Korotaeva",
   "title": "Mathematical statistics. Implementation"
  }
 },
 "nbformat": 4,
 "nbformat_minor": 2
}
