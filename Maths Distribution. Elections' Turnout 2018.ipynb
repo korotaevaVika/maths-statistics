{
 "cells": [
  {
   "cell_type": "markdown",
   "metadata": {},
   "source": [
    "## Mathematical statistics. Математическая статистика"
   ]
  },
  {
   "cell_type": "markdown",
   "metadata": {},
   "source": [
    "There are base functions implemented in this notebook count such values as\n",
    "$${\\tt} moda$$\n",
    "$${\\tt} mediana$$\n",
    "$${\\tt} mean$$\n",
    "$${\\tt} deviation$$\n",
    "\n",
    "Also there is the function which counts the cumulative distribution function of given values and draws the probability distibution"
   ]
  },
  {
   "cell_type": "code",
   "execution_count": 18,
   "metadata": {
    "collapsed": true
   },
   "outputs": [],
   "source": [
    "from IPython.display import display, Math, Latex"
   ]
  },
  {
   "cell_type": "markdown",
   "metadata": {},
   "source": [
    "\\begin{align}\n",
    "Moda & = \\left\\{x_{i}: p(x_i)>p(x_j), j\\in[1..n], j\\neq i\\right\\} \\\\\n",
    "Mediana = Me & = \\left\\{x: P(X < Me)=P(X>Me)\\right\\} \\\\\n",
    "Mean = m_x & = \\sum_{i=1}^n(x_{i}*p_{i}) \\\\\n",
    "Deviation = d_x & = \\sum_{i=1}^n(x_{i}-m_{x})^2*p_{i} \\\\\n",
    "\\end{align}\n"
   ]
  },
  {
   "cell_type": "markdown",
   "metadata": {},
   "source": [
    "### Implementation "
   ]
  },
  {
   "cell_type": "code",
   "execution_count": 19,
   "metadata": {
    "collapsed": true
   },
   "outputs": [],
   "source": [
    "import random as rm\n",
    "import numpy as np\n",
    "import matplotlib.pyplot as plt\n",
    "import math\n",
    "import pandas as pd"
   ]
  },
  {
   "cell_type": "code",
   "execution_count": 20,
   "metadata": {
    "collapsed": true
   },
   "outputs": [],
   "source": [
    "def getModa(array): \n",
    "    array = np.asarray(sorted(array))\n",
    "    n = len(array)\n",
    "    visited = [False for i in range(n)] \n",
    "    count = np.zeros(n)\n",
    "    \n",
    "    for i in range(n): \n",
    "        if (visited[i] == True): \n",
    "            continue;\n",
    "        count[i] = 1\n",
    "        for j in range(i + 1, n, 1): \n",
    "            if (array[i] == array[j]): \n",
    "                visited[j] = True\n",
    "                count[i] += 1   \n",
    "\n",
    "    m = max(count)\n",
    "    ind = [i for i, v in enumerate(array.tolist()) if count[i] == m]\n",
    "    return array[ind]\n",
    "\n",
    "def getDeviation(array, mean):\n",
    "    deviation = 0\n",
    "    for x in array:\n",
    "        deviation += (x-mean)**2    \n",
    "    deviation /= len(array)\n",
    "    return deviation\n",
    "        \n",
    "def getDistCharacteristics(array):\n",
    "    n = len(array)\n",
    "    deviation = 0\n",
    "    mean = 0\n",
    "    mediana = 0\n",
    "    moda = 0\n",
    "    for x in array:\n",
    "        mean += x    \n",
    "    mean /= n\n",
    "    deviation = getDeviation(array, mean)\n",
    "    if n % 2 == 1:\n",
    "        mediana = sorted(array)[int(n/2)]\n",
    "    else:\n",
    "        mediana = (sorted(array)[int(n/2)]+sorted(array)[int(n/2 - 1)])/2\n",
    "    moda = getModa(array)\n",
    "    \n",
    "    return mediana, mean, moda, deviation   \n",
    "        "
   ]
  },
  {
   "cell_type": "markdown",
   "metadata": {},
   "source": [
    "### Test data"
   ]
  },
  {
   "cell_type": "code",
   "execution_count": 21,
   "metadata": {},
   "outputs": [
    {
     "name": "stdout",
     "output_type": "stream",
     "text": [
      "mediana, moda, mean, deviation\n"
     ]
    },
    {
     "data": {
      "text/plain": [
       "(15.0, 13.125, array([20]), 49.609375)"
      ]
     },
     "execution_count": 21,
     "metadata": {},
     "output_type": "execute_result"
    }
   ],
   "source": [
    "t = np.array([10, 20, 20, 5, 5, 20, 5, 20])\n",
    "print('mediana, moda, mean, deviation')\n",
    "getDistCharacteristics(t)"
   ]
  },
  {
   "cell_type": "markdown",
   "metadata": {},
   "source": [
    "### Cumulative distribution function. Функция распределения"
   ]
  },
  {
   "cell_type": "code",
   "execution_count": 22,
   "metadata": {
    "collapsed": true
   },
   "outputs": [],
   "source": [
    "def getCDF(array): #F(X) = cumulative distribution function (CDF)\n",
    "    x = np.asarray(sorted(array))\n",
    "    n = len(array)\n",
    "    visited = [False for i in range(n)] \n",
    "    count = np.zeros(n)\n",
    "    \n",
    "    for i in range(n): \n",
    "        if (visited[i] == True): \n",
    "            continue;\n",
    "        count[i] = 1\n",
    "        for j in range(i + 1, n, 1): \n",
    "            if (x[i] == x[j]): \n",
    "                visited[j] = True\n",
    "                count[i] += 1  \n",
    "                \n",
    "    _x = np.unique(x)\n",
    "    _count = count[count != 0]\n",
    "    _p = []\n",
    "    _prob = 0\n",
    "    _nExperiments = sum(count) \n",
    "    for i in np.arange(len(_x)):\n",
    "        _prob += _count[i]/_nExperiments\n",
    "        _p.append(_prob)\n",
    "    return np.array(_x), np.array(_p)"
   ]
  },
  {
   "cell_type": "code",
   "execution_count": 23,
   "metadata": {
    "collapsed": true
   },
   "outputs": [],
   "source": [
    "const_title = 'Probability Distribution F(X) '"
   ]
  },
  {
   "cell_type": "code",
   "execution_count": 24,
   "metadata": {
    "collapsed": true
   },
   "outputs": [],
   "source": [
    "def drawStepFunction(x,y, title='', bPrint=True):\n",
    "    _y_offset = 0.1\n",
    "    _x_offset = 1\n",
    "    \n",
    "    _len = len(x)*2\n",
    "    _x = np.zeros(_len)\n",
    "    _y = np.zeros(_len)\n",
    "    for i in np.arange(len(x)):\n",
    "        _x[i*2] = x[i]\n",
    "        _x[i*2-1] = x[i]\n",
    "        _y[i*2] = y[i]\n",
    "        _y[i*2+1]= y[i]\n",
    "    _x[-1] = _x[-2]+_x_offset\n",
    "    \n",
    "    _lx = list(_x)\n",
    "    _ly = list(_y)\n",
    "    _lx.insert(0, min(_x))\n",
    "    _ly.insert(0, 0)\n",
    "    _lx.insert(0, min(_x)-_x_offset)\n",
    "    _ly.insert(0, 0)\n",
    "    \n",
    "    _x = np.asarray(_lx)\n",
    "    _y = np.asarray(_ly)\n",
    "    plt.plot(_x,_y)  \n",
    "    plt.title(const_title + title)\n",
    "    plt.xlim([min(_x)-_x_offset,_x[-1]])\n",
    "    plt.ylim([min(min(_y), 0),max(_y)+_y_offset])\n",
    "\n",
    "    plt.show()\n"
   ]
  },
  {
   "cell_type": "code",
   "execution_count": 25,
   "metadata": {
    "collapsed": true
   },
   "outputs": [],
   "source": [
    "def getProbabilityDistribution(array, title='', bPrint=True):\n",
    "    args, cdf = getCDF(array)\n",
    "    if bPrint == True:\n",
    "        print(args, cdf)\n",
    "    drawStepFunction(args, cdf, title, bPrint)"
   ]
  },
  {
   "cell_type": "code",
   "execution_count": 26,
   "metadata": {
    "collapsed": true
   },
   "outputs": [],
   "source": [
    "def getAndDraw(array, title='', bPrint=True):\n",
    "    getProbabilityDistribution(array, title, bPrint)\n",
    "    mediana, mean, moda, deviation = getDistCharacteristics(array)\n",
    "    print (\"mean = \", mean)\n",
    "    print (\"standart deviation = \", deviation**0.5)\n",
    "    print (\"---------- ------------- ------------\")"
   ]
  },
  {
   "cell_type": "markdown",
   "metadata": {},
   "source": [
    "### Test data"
   ]
  },
  {
   "cell_type": "code",
   "execution_count": 27,
   "metadata": {},
   "outputs": [
    {
     "name": "stdout",
     "output_type": "stream",
     "text": [
      "[ 5 10 20] [ 0.5    0.625  1.   ]\n"
     ]
    },
    {
     "data": {
      "image/png": "[encoded data removed]",
      "text/plain": [
       "<matplotlib.figure.Figure at 0x29411a19f98>"
      ]
     },
     "metadata": {},
     "output_type": "display_data"
    },
    {
     "name": "stdout",
     "output_type": "stream",
     "text": [
      "mean =  11.25\n",
      "standart deviation =  6.95970545354\n",
      "---------- ------------- ------------\n"
     ]
    }
   ],
   "source": [
    "array = np.array([10, 20, 5, 5, 5, 20, 5, 20])\n",
    "\n",
    "getAndDraw(array, '', True)"
   ]
  },
  {
   "cell_type": "markdown",
   "metadata": {},
   "source": [
    "### Load real data"
   ]
  },
  {
   "cell_type": "code",
   "execution_count": 28,
   "metadata": {
    "collapsed": true
   },
   "outputs": [],
   "source": [
    "mos_obl = pd.read_csv(\"mos_obl_2018.csv\")\n",
    "altay = pd.read_csv(\"altay_2018.csv\")"
   ]
  },
  {
   "cell_type": "code",
   "execution_count": 29,
   "metadata": {
    "scrolled": true
   },
   "outputs": [
    {
     "data": {
      "text/html": [
       "<div>\n",
       "<style>\n",
       "    .dataframe thead tr:only-child th {\n",
       "        text-align: right;\n",
       "    }\n",
       "\n",
       "    .dataframe thead th {\n",
       "        text-align: left;\n",
       "    }\n",
       "\n",
       "    .dataframe tbody tr th {\n",
       "        vertical-align: top;\n",
       "    }\n",
       "</style>\n",
       "<table border=\"1\" class=\"dataframe\">\n",
       "  <thead>\n",
       "    <tr style=\"text-align: right;\">\n",
       "      <th></th>\n",
       "      <th>UIK</th>\n",
       "      <th>voters</th>\n",
       "      <th>voted mobile</th>\n",
       "      <th>voted stationary</th>\n",
       "      <th>Turnout</th>\n",
       "      <th>Video</th>\n",
       "    </tr>\n",
       "  </thead>\n",
       "  <tbody>\n",
       "    <tr>\n",
       "      <th>0</th>\n",
       "      <td>1</td>\n",
       "      <td>1963</td>\n",
       "      <td>78</td>\n",
       "      <td>1048</td>\n",
       "      <td>0.573612</td>\n",
       "      <td>1</td>\n",
       "    </tr>\n",
       "    <tr>\n",
       "      <th>1</th>\n",
       "      <td>2</td>\n",
       "      <td>2018</td>\n",
       "      <td>121</td>\n",
       "      <td>1445</td>\n",
       "      <td>0.776016</td>\n",
       "      <td>1</td>\n",
       "    </tr>\n",
       "    <tr>\n",
       "      <th>2</th>\n",
       "      <td>3</td>\n",
       "      <td>1869</td>\n",
       "      <td>80</td>\n",
       "      <td>1062</td>\n",
       "      <td>0.611022</td>\n",
       "      <td>0</td>\n",
       "    </tr>\n",
       "    <tr>\n",
       "      <th>3</th>\n",
       "      <td>4</td>\n",
       "      <td>1865</td>\n",
       "      <td>89</td>\n",
       "      <td>984</td>\n",
       "      <td>0.575335</td>\n",
       "      <td>1</td>\n",
       "    </tr>\n",
       "    <tr>\n",
       "      <th>4</th>\n",
       "      <td>5</td>\n",
       "      <td>1870</td>\n",
       "      <td>72</td>\n",
       "      <td>1242</td>\n",
       "      <td>0.702674</td>\n",
       "      <td>0</td>\n",
       "    </tr>\n",
       "  </tbody>\n",
       "</table>\n",
       "</div>"
      ],
      "text/plain": [
       "   UIK  voters  voted mobile  voted stationary   Turnout  Video\n",
       "0    1    1963            78              1048  0.573612      1\n",
       "1    2    2018           121              1445  0.776016      1\n",
       "2    3    1869            80              1062  0.611022      0\n",
       "3    4    1865            89               984  0.575335      1\n",
       "4    5    1870            72              1242  0.702674      0"
      ]
     },
     "execution_count": 29,
     "metadata": {},
     "output_type": "execute_result"
    }
   ],
   "source": [
    "altay.head()\n",
    "mos_obl.head()"
   ]
  },
  {
   "cell_type": "markdown",
   "metadata": {},
   "source": [
    "# Задачи\n",
    "*В письме приложено два csv-файла: altay_2018.csv и\n",
    "mos_obl_2018.csv, представляющие собой часть результатов\n",
    "выборов губернаторов в алтайской и московской областях.\n",
    "Столбцы соответствуют следующим данным: UIK – номер\n",
    "участкового избирательного участка; TIK – название\n",
    "территориальной избирательной комиссии; voters –\n",
    "зарегистрированное число избирателей; voted mobile – количество\n",
    "проголосовавших на выездном голосовании; voted stationary -\n",
    "количество проголосовавших непосредственно на участке; turnout\n",
    "– явка = (voted mobile + voted stationary)/ voters; video – индикатор\n",
    "наличия видеонаблюдения на участке (1 – есть, 0 - нет). <br> <br>*\n",
    "Для обоих областей построить распределение явки (turnout)\n",
    "отдельно для участков с видеонаблюдением и для участков без\n",
    "такового. Найти математическое ожидание для каждой из выборок\n",
    "и среднеквадратичное отклонение. <br> <br>\n",
    "Проделать то же самое, дополнительно разделив каждую\n",
    "выборку по признаку числа избирателей: voters > 1000 и\n",
    "voters < 1000. Т.е. рассмотреть для каждой области четыре выборки\n",
    "{video = 1, voters > 1000}, {video = 0, voters > 1000}, {video = 1,\n",
    "voters < 1000}, {video = 0, voters < 1000}.  <br> <br>\n",
    "[Материалы Тимура о распределении с формулами](https://mail.google.com/mail/u/0?ui=2&ik=7e633e38b7&attid=0.1&permmsgid=msg-f:1627197538608941688&th=1694f78a442d0a78&view=att&disp=safe)"
   ]
  },
  {
   "cell_type": "code",
   "execution_count": 30,
   "metadata": {
    "collapsed": true
   },
   "outputs": [],
   "source": [
    "interest = 'Turnout'"
   ]
  },
  {
   "cell_type": "code",
   "execution_count": 31,
   "metadata": {},
   "outputs": [],
   "source": [
    "#выборки\n",
    "mos_video_on = mos_obl[mos_obl['Video']==1][interest]\n",
    "mos_video_off = mos_obl[mos_obl['Video']==0][interest]\n",
    "\n",
    "altay_video_on = altay[altay['Video']==1][interest]\n",
    "altay_video_off = altay[altay['Video']==0][interest]\n",
    "\n",
    "mos_video_on_many = mos_obl[(mos_obl['Video']==1) & (mos_obl['voters']>1000)][interest]\n",
    "mos_video_on_few = mos_obl[(mos_obl['Video']==1) & (mos_obl['voters']<1000)][interest]\n",
    "mos_video_off_many = mos_obl[(mos_obl['Video']==0) & (mos_obl['voters']>1000)][interest]\n",
    "mos_video_off_few = mos_obl[(mos_obl['Video']==0) & (mos_obl['voters']<1000)][interest]\n",
    "\n",
    "alt_video_on_many = altay[(altay['Video']==1) & (altay['voters']>1000)][interest]\n",
    "alt_video_on_few = altay[(altay['Video']==1) & (altay['voters']<1000)][interest]\n",
    "alt_video_off_many = altay[(altay['Video']==0) & (altay['voters']>1000)][interest]\n",
    "alt_video_off_few = altay[(altay['Video']==0) & (altay['voters']<1000)][interest]\n"
   ]
  },
  {
   "cell_type": "code",
   "execution_count": 32,
   "metadata": {
    "collapsed": true
   },
   "outputs": [],
   "source": [
    "bPrint = False #Если нужно вывести значения функции распределения, то bPrint = True"
   ]
  },
  {
   "cell_type": "markdown",
   "metadata": {},
   "source": [
    "### Московская область"
   ]
  },
  {
   "cell_type": "code",
   "execution_count": 33,
   "metadata": {},
   "outputs": [
    {
     "data": {
      "image/png": "[encoded data removed]",
      "text/plain": [
       "<matplotlib.figure.Figure at 0x2940fba36d8>"
      ]
     },
     "metadata": {},
     "output_type": "display_data"
    },
    {
     "name": "stdout",
     "output_type": "stream",
     "text": [
      "mean =  0.365398392091\n",
      "standart deviation =  0.132721604541\n",
      "---------- ------------- ------------\n"
     ]
    },
    {
     "data": {
      "image/png": "[encoded data removed]",
      "text/plain": [
       "<matplotlib.figure.Figure at 0x2941209a780>"
      ]
     },
     "metadata": {},
     "output_type": "display_data"
    },
    {
     "name": "stdout",
     "output_type": "stream",
     "text": [
      "mean =  0.395097191734\n",
      "standart deviation =  0.148432108824\n",
      "---------- ------------- ------------\n"
     ]
    },
    {
     "data": {
      "image/png": "[encoded data removed]",
      "text/plain": [
       "<matplotlib.figure.Figure at 0x29411cbe550>"
      ]
     },
     "metadata": {},
     "output_type": "display_data"
    },
    {
     "name": "stdout",
     "output_type": "stream",
     "text": [
      "mean =  0.402430356474\n",
      "standart deviation =  0.173537618685\n",
      "---------- ------------- ------------\n"
     ]
    },
    {
     "data": {
      "image/png": "[encoded data removed]",
      "text/plain": [
       "<matplotlib.figure.Figure at 0x29411b14438>"
      ]
     },
     "metadata": {},
     "output_type": "display_data"
    },
    {
     "name": "stdout",
     "output_type": "stream",
     "text": [
      "mean =  0.493575967047\n",
      "standart deviation =  0.207518330772\n",
      "---------- ------------- ------------\n"
     ]
    }
   ],
   "source": [
    "getAndDraw(mos_video_on_many, 'Мос. область. С видео. Много избирателей', bPrint)\n",
    "getAndDraw(mos_video_on_few, 'Мос. область. С видео. Мало избирателей', bPrint)\n",
    "getAndDraw(mos_video_off_many, 'Мос. область. Без видео. Много избирателей', bPrint)\n",
    "getAndDraw(mos_video_off_few, 'Мос. область. Без видео. Мало избирателей', bPrint)"
   ]
  },
  {
   "cell_type": "markdown",
   "metadata": {},
   "source": [
    "### Алтай"
   ]
  },
  {
   "cell_type": "code",
   "execution_count": 34,
   "metadata": {},
   "outputs": [
    {
     "data": {
      "image/png": "[encoded data removed]",
      "text/plain": [
       "<matplotlib.figure.Figure at 0x294117e9a58>"
      ]
     },
     "metadata": {},
     "output_type": "display_data"
    },
    {
     "name": "stdout",
     "output_type": "stream",
     "text": [
      "mean =  0.33972591577\n",
      "standart deviation =  0.0777264450124\n",
      "---------- ------------- ------------\n"
     ]
    },
    {
     "data": {
      "image/png": "[encoded data removed]",
      "text/plain": [
       "<matplotlib.figure.Figure at 0x2941214b6a0>"
      ]
     },
     "metadata": {},
     "output_type": "display_data"
    },
    {
     "name": "stdout",
     "output_type": "stream",
     "text": [
      "mean =  0.441261763122\n",
      "standart deviation =  0.112264464834\n",
      "---------- ------------- ------------\n"
     ]
    },
    {
     "data": {
      "image/png": "[encoded data removed]",
      "text/plain": [
       "<matplotlib.figure.Figure at 0x294120ac2b0>"
      ]
     },
     "metadata": {},
     "output_type": "display_data"
    },
    {
     "name": "stdout",
     "output_type": "stream",
     "text": [
      "mean =  0.35053861029\n",
      "standart deviation =  0.141197569513\n",
      "---------- ------------- ------------\n"
     ]
    },
    {
     "data": {
      "image/png": "[encoded data removed]",
      "text/plain": [
       "<matplotlib.figure.Figure at 0x294121917f0>"
      ]
     },
     "metadata": {},
     "output_type": "display_data"
    },
    {
     "name": "stdout",
     "output_type": "stream",
     "text": [
      "mean =  0.541186215949\n",
      "standart deviation =  0.157436562637\n",
      "---------- ------------- ------------\n"
     ]
    }
   ],
   "source": [
    "getAndDraw(alt_video_on_many, 'Алтай. С видео. Много избирателей', bPrint)\n",
    "getAndDraw(alt_video_on_few, 'Алтай. Без видео. Мало избирателей', bPrint)\n",
    "getAndDraw(alt_video_off_many, 'Алтай. С видео. Много избирателей', bPrint)\n",
    "getAndDraw(alt_video_off_few, 'Алтай. Без видео. Мало избирателей', bPrint)"
   ]
  },
  {
   "cell_type": "markdown",
   "metadata": {
    "collapsed": true
   },
   "source": [
    "***Вывод/Conclusion*** <br>\n",
    "Подозрительно высокая явка (мат. ожидание) на участках без видеонаблюдения и увеличенная в 1.7-2 раза среднеквадратичное отклонение по сравнению с участками с видеокамерами.\n",
    "Тенденции в областях одинаковы. "
   ]
  },
  {
   "cell_type": "code",
   "execution_count": null,
   "metadata": {
    "collapsed": true
   },
   "outputs": [],
   "source": []
  }
 ],
 "metadata": {
  "kernelspec": {
   "display_name": "Python 3",
   "language": "python",
   "name": "python3"
  },
  "language_info": {
   "codemirror_mode": {
    "name": "ipython",
    "version": 3
   },
   "file_extension": ".py",
   "mimetype": "text/x-python",
   "name": "python",
   "nbconvert_exporter": "python",
   "pygments_lexer": "ipython3",
   "version": "3.6.3"
  },
  "latex_metadata": {
   "affiliation": "NUST MISIS, Computer science. Moscow, Russia.",
   "author": "Viktoria Korotaeva",
   "title": "Mathematical statistics. Implementation"
  }
 },
 "nbformat": 4,
 "nbformat_minor": 2
}
