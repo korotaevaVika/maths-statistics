{
 "cells": [
  {
   "cell_type": "markdown",
   "metadata": {},
   "source": [
    "### Распределение Пуассона. Нормальное распределение / Poisson and Normal distributions"
   ]
  },
  {
   "cell_type": "code",
   "execution_count": 1,
   "metadata": {
    "collapsed": true
   },
   "outputs": [],
   "source": [
    "from IPython.display import display, Math, Latex"
   ]
  },
  {
   "cell_type": "markdown",
   "metadata": {},
   "source": [
    "Pаспределение Пуассона при больших значениях среднего переходит в нормальное распредление : <br> <br>\n",
    "$$P_m=\\frac{a^m}{m!}e^{-a}\\approx\\frac{1}{\\sqrt{2\\pi a}}e^{-\\frac{(m-a)^2}{2a}}$$\n",
    "[Доказательство](https://mail.google.com/mail/u/0?ui=2&ik=7e633e38b7&attid=0.2&permmsgid=msg-f:1628448483864341225&th=16996944a7c1eae9&view=att&disp=safe)"
   ]
  },
  {
   "cell_type": "code",
   "execution_count": 2,
   "metadata": {
    "collapsed": true
   },
   "outputs": [],
   "source": [
    "from math import factorial, exp, sqrt, ceil, floor\n",
    "from time import time"
   ]
  },
  {
   "cell_type": "code",
   "execution_count": 3,
   "metadata": {
    "collapsed": true
   },
   "outputs": [],
   "source": [
    "def getPoissonProbability(m, a):\n",
    "    return ((a**m)/factorial(m))*exp(-a)"
   ]
  },
  {
   "cell_type": "markdown",
   "metadata": {},
   "source": [
    "### Задача / Problem"
   ]
  },
  {
   "cell_type": "markdown",
   "metadata": {},
   "source": [
    "Используйте данные по среднему количеству забитых голов команды для предсказания \n",
    "результат футбольного матча. Т.е. ***рассчитайте вероятность победы, поражения и ничейного \n",
    "результата в матче команды $A$ и $B$***. <br><br> ***Примечание*** <br>Считайте, что вероятность голов распределена по закону \n",
    "Пуассона; $P_m$ <br> Вероятность того, что какая-либо команда забьёт в матче $k_{limit} = 5$ мячей и больше \n",
    "пренебрежима мала, $P_m=0, m>=k_{limit}$ <br>Для расчёта используйте скорректированное среднее число забитых голов \n",
    "в матче ($goals$). <br>Результаты сравнить с букмекерскими ставками. "
   ]
  },
  {
   "cell_type": "markdown",
   "metadata": {},
   "source": [
    "Среднее число голов, забиваемое в матче, корректируется следующим образом: <br>\n",
    "$$goals(A)= attack(A)*defense(B)*av\\_goals(A), $$\n",
    "$$goals(B)= attack(B)*defense(A)*av\\_goals(B), $$\n",
    "где $av\\_goals$ – среднее число голов, забитой командой во всех матчах. "
   ]
  },
  {
   "cell_type": "markdown",
   "metadata": {},
   "source": [
    "<br>Показатели защиты и \n",
    "атаки определяются следующим образом: \n",
    "$$attack(A) = (av\\_goals\\_home(A))/(av\\_goals\\_home(total))$$\n",
    "$$defense(A) = (av\\_loose\\_guest(A))/(av\\_loose\\_guest(total))$$ \n",
    "где $av\\_goals\\_home$ – среднее число голов, забитой командой в домашних матчах; <br>\n",
    "$av\\_goals\\_guest$ – среднее число голов, забитой командой в выездных матчах; <br>\n",
    "$av\\_loose\\_guest$ - среднее число голов, пропущенных командой в выездных матчах; <br>\n",
    "$av\\_goals\\_home(total)$ - среднее число голов, забитых всеми командами чемпионата в \n",
    "домашних матчах; <br>\n",
    "$av\\_loose\\_home(total)$ - среднее число голов, пропущенных всеми командами чемпионата в \n",
    "выездных матчах. <br>\n",
    "Очевидно, что $av\\_loose\\_guest(total) = av\\_goals\\_home(total).$ \n"
   ]
  },
  {
   "cell_type": "markdown",
   "metadata": {},
   "source": [
    "В качестве команды $A$ возьмите $Chelsea (Ch)$, в качестве $В$ – $West Ham United (WH)$ (команды \n",
    "английской премьер лиги). <br> Для этого чемпионата $av\\_goals\\_home(total) = 2.84$. <br>Для команд \n",
    "известны следующие параметры: <br>\n",
    "$$av\\_goals(Ch) = 1.67 $$\n",
    "$$av\\_goals(WH) = 1.32 $$\n",
    "$$av\\_goals\\_home(Ch) = 1.93 $$\n",
    "$$av\\_goals\\_home(WH) = 1.69 $$\n",
    "$$av\\_loose\\_guest(Ch) = 1.53 $$\n",
    "$$av\\_loose\\_guest(WH) = 1.53 $$\n",
    "<br>\n",
    "Если вам интересны другие команды, можете взять их. Статистику можно найти [здесь](https://footystats.org/england/premier-league)\n"
   ]
  },
  {
   "cell_type": "code",
   "execution_count": 4,
   "metadata": {
    "collapsed": true
   },
   "outputs": [],
   "source": [
    "k_limit = 5"
   ]
  },
  {
   "cell_type": "markdown",
   "metadata": {},
   "source": [
    "***Решение*** <br>\n",
    "Вероятность победы команды $A$ обозначим $P_{win}({A})$ <br>\n",
    "Вероятность поражения команды $A$ обозначим $P_{lose}({A})$ <br>\n",
    "Вероятность ничьей в матче обозначим $P_{eq}(A,B)$ <br>"
   ]
  },
  {
   "cell_type": "markdown",
   "metadata": {
    "collapsed": true
   },
   "source": [
    "Вероятности рассчитываются следующим образом: <br>\n",
    "$$P_{win}(A)=\\sum_{m=1}^{k_{limit}-1}P_m^{A}\\sum_{j=0}^{m-1}P_j^{B},$$\n",
    "где  $P_m^{A}$ - вероятность того, что команда $A$ забьет $m$ голов в матче (расчет по распределению Пуассона),<br>\n",
    "где  $P_j^{B}$ - вероятность того, что команда $B$ забьет $j$ голов в матче (расчет по распределению Пуассона).<br>"
   ]
  },
  {
   "cell_type": "markdown",
   "metadata": {},
   "source": [
    "$$P_{lose}(A)=P_{win}(B)=\\sum_{m=1}^{k_{limit}-1}P_m^{B}\\sum_{j=0}^{m-1}P_j^{A},$$\n",
    "так как проигрыш команды $A$ равноценен выигрышу команды $B$."
   ]
  },
  {
   "cell_type": "markdown",
   "metadata": {},
   "source": [
    "$$P_{eq}(A,B)=\\sum_{i=0}^{k_{limit}-1}P_m^A P_m^B$$"
   ]
  },
  {
   "cell_type": "markdown",
   "metadata": {},
   "source": [
    "*Найдем скорректированное среднее число забитых голов в матче $goals$*. \n",
    "<br>Заходим на сайт в [раздел](https://footystats.org/england/premier-league/goals-scored-table) и находим для Челси <br>$av\\_goals\\_a$ - *scored/match*\n",
    "<br>$av\\_goals\\_home\\_a$ - *home/match*\n",
    "<br>$av\\_loose\\_guest\\_a$ - *away/match* в [разделе](https://footystats.org/england/premier-league/goals-conceded-table) "
   ]
  },
  {
   "cell_type": "code",
   "execution_count": 5,
   "metadata": {
    "collapsed": true
   },
   "outputs": [],
   "source": [
    "av_goals_a = 1.67 #Ch \n",
    "av_goals_b = 1.32 #WH\n",
    "av_goals_home_a= 1.93 \n",
    "av_goals_home_b = 1.69 \n",
    "av_loose_guest_a = 1.53\n",
    "av_loose_guest_b = 1.53"
   ]
  },
  {
   "cell_type": "code",
   "execution_count": 6,
   "metadata": {
    "collapsed": true
   },
   "outputs": [],
   "source": [
    "av_goals_home_total = av_loose_guest_total = 2.84"
   ]
  },
  {
   "cell_type": "markdown",
   "metadata": {},
   "source": [
    "*Найдем показатели защиты и \n",
    "атаки*"
   ]
  },
  {
   "cell_type": "code",
   "execution_count": 7,
   "metadata": {},
   "outputs": [],
   "source": [
    "attack_a = av_goals_home_a/av_goals_home_total\n",
    "defense_a = av_loose_guest_a/av_loose_guest_total\n",
    "\n",
    "attack_b = av_goals_home_b/av_goals_home_total\n",
    "defense_b = av_loose_guest_b/av_loose_guest_total"
   ]
  },
  {
   "cell_type": "code",
   "execution_count": 8,
   "metadata": {
    "collapsed": true
   },
   "outputs": [],
   "source": [
    "goals_a = attack_a*defense_b*av_goals_a\n",
    "goals_b = attack_b*defense_a*av_goals_b"
   ]
  },
  {
   "cell_type": "code",
   "execution_count": 9,
   "metadata": {},
   "outputs": [
    {
     "name": "stdout",
     "output_type": "stream",
     "text": [
      "Cреднее ожидаемое количество голов в матче у команды A =  0.6114043592541163  и у команды B =  0.42317050188454675\n"
     ]
    }
   ],
   "source": [
    "print('Cреднее ожидаемое количество голов в матче у команды A = ', goals_a, ' и у команды B = ', goals_b)"
   ]
  },
  {
   "cell_type": "code",
   "execution_count": 10,
   "metadata": {},
   "outputs": [
    {
     "name": "stdout",
     "output_type": "stream",
     "text": [
      "Execution Time:  0.0\n"
     ]
    }
   ],
   "source": [
    "p_win_a = 0\n",
    "p_eq = 0 \n",
    "p_lose_a = 0\n",
    "\n",
    "start = time()\n",
    "p_eq += getPoissonProbability(0, goals_a) * getPoissonProbability(0, goals_b) \n",
    "for m in range(1, k_limit-1):\n",
    "    x = 0\n",
    "    y = 0\n",
    "    for i in range(m-1):\n",
    "        x += getPoissonProbability(i, goals_b)\n",
    "        y += getPoissonProbability(i, goals_a)\n",
    "    p_win_a += getPoissonProbability(m, goals_a)*x\n",
    "    p_lose_a += getPoissonProbability(m, goals_b)*y\n",
    "    p_eq += getPoissonProbability(m, goals_a) * getPoissonProbability(m, goals_b) \n",
    "    \n",
    "end = time()\n",
    "print('Execution Time: ', end - start)"
   ]
  },
  {
   "cell_type": "markdown",
   "metadata": {},
   "source": [
    "#### Ответ: "
   ]
  },
  {
   "cell_type": "code",
   "execution_count": 11,
   "metadata": {},
   "outputs": [
    {
     "name": "stdout",
     "output_type": "stream",
     "text": [
      "Команда А выиграет у команды B с вероятностью 0.0856882964461915\n",
      "Команда А сыграет вничью с командой B с вероятностью 0.45344186926236874\n",
      "Команда А проиграет команде B с вероятностью 0.039051814326996\n"
     ]
    }
   ],
   "source": [
    "print('Команда А выиграет у команды B с вероятностью', p_win_a)\n",
    "print('Команда А сыграет вничью с командой B с вероятностью', p_eq) \n",
    "print('Команда А проиграет команде B с вероятностью', p_lose_a)"
   ]
  }
 ],
 "metadata": {
  "kernelspec": {
   "display_name": "Python 3",
   "language": "python",
   "name": "python3"
  },
  "language_info": {
   "codemirror_mode": {
    "name": "ipython",
    "version": 3
   },
   "file_extension": ".py",
   "mimetype": "text/x-python",
   "name": "python",
   "nbconvert_exporter": "python",
   "pygments_lexer": "ipython3",
   "version": "3.6.3"
  },
  "latex_metadata": {
   "affiliation": "NUST MISIS, Computer science. Moscow, Russia.",
   "author": "Viktoria Korotaeva",
   "title": "Mathematical statistics. Implementation"
  }
 },
 "nbformat": 4,
 "nbformat_minor": 2
}
